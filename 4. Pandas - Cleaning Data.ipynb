{
 "cells": [
  {
   "cell_type": "markdown",
   "metadata": {},
   "source": [
    "# 4. Pandas - Cleaning Data\n",
    "\n",
    "Data cleaning means fixing bad data in your data set.\n",
    "\n",
    "Bad data could be:\n",
    "\n",
    "* Empty cells\n",
    "* Data in wrong format\n",
    "* Wrong data\n",
    "* Duplicates"
   ]
  },
  {
   "cell_type": "markdown",
   "metadata": {},
   "source": [
    "## 4.1. Empty Cells\n",
    "\n",
    "Empty cells can potentially give you a wrong result when you analyze data.\n",
    "\n",
    "### 4.1.1. Remove Rows\n",
    "One way to deal with empty cells is to remove rows that contain empty cells.\n",
    "\n",
    "This is usually OK, since data sets can be very big, and removing a few rows will not have a big impact on the result.\n",
    "#### dropna()\n",
    "همه ی ستون هایی که مقادیر گمشده دارند حذف میشوند"
   ]
  },
  {
   "cell_type": "code",
   "execution_count": 16,
   "metadata": {},
   "outputs": [
    {
     "data": {
      "text/html": [
       "<div>\n",
       "<style scoped>\n",
       "    .dataframe tbody tr th:only-of-type {\n",
       "        vertical-align: middle;\n",
       "    }\n",
       "\n",
       "    .dataframe tbody tr th {\n",
       "        vertical-align: top;\n",
       "    }\n",
       "\n",
       "    .dataframe thead th {\n",
       "        text-align: right;\n",
       "    }\n",
       "</style>\n",
       "<table border=\"1\" class=\"dataframe\">\n",
       "  <thead>\n",
       "    <tr style=\"text-align: right;\">\n",
       "      <th></th>\n",
       "      <th>Maxpulse</th>\n",
       "      <th>Duration</th>\n",
       "      <th>Data</th>\n",
       "      <th>pulse</th>\n",
       "      <th>Calories</th>\n",
       "    </tr>\n",
       "  </thead>\n",
       "  <tbody>\n",
       "    <tr>\n",
       "      <th>0</th>\n",
       "      <td>2.5</td>\n",
       "      <td>60.0</td>\n",
       "      <td>'2020/12/01'</td>\n",
       "      <td>28.0</td>\n",
       "      <td>79.986111</td>\n",
       "    </tr>\n",
       "    <tr>\n",
       "      <th>1</th>\n",
       "      <td>2.5</td>\n",
       "      <td>NaN</td>\n",
       "      <td>'2020/12/01'</td>\n",
       "      <td>28.0</td>\n",
       "      <td>61.887366</td>\n",
       "    </tr>\n",
       "    <tr>\n",
       "      <th>2</th>\n",
       "      <td>NaN</td>\n",
       "      <td>60.0</td>\n",
       "      <td>'2020/12/01'</td>\n",
       "      <td>270.0</td>\n",
       "      <td>40.269535</td>\n",
       "    </tr>\n",
       "    <tr>\n",
       "      <th>3</th>\n",
       "      <td>2.5</td>\n",
       "      <td>60.0</td>\n",
       "      <td>NaN</td>\n",
       "      <td>NaN</td>\n",
       "      <td>41.052780</td>\n",
       "    </tr>\n",
       "    <tr>\n",
       "      <th>4</th>\n",
       "      <td>1.0</td>\n",
       "      <td>60.0</td>\n",
       "      <td>'2020/12/01'</td>\n",
       "      <td>360.0</td>\n",
       "      <td>44.296075</td>\n",
       "    </tr>\n",
       "  </tbody>\n",
       "</table>\n",
       "</div>"
      ],
      "text/plain": [
       "   Maxpulse    Duration         Data   pulse   Calories\n",
       "0         2.5      60.0  '2020/12/01'   28.0  79.986111\n",
       "1         2.5       NaN  '2020/12/01'   28.0  61.887366\n",
       "2         NaN      60.0  '2020/12/01'  270.0  40.269535\n",
       "3         2.5      60.0           NaN    NaN  41.052780\n",
       "4         1.0      60.0  '2020/12/01'  360.0  44.296075"
      ]
     },
     "execution_count": 16,
     "metadata": {},
     "output_type": "execute_result"
    }
   ],
   "source": [
    "import pandas as pd\n",
    "\n",
    "df = pd.read_excel('Reza1.xls')\n",
    "df.head()"
   ]
  },
  {
   "cell_type": "code",
   "execution_count": 17,
   "metadata": {},
   "outputs": [
    {
     "name": "stdout",
     "output_type": "stream",
     "text": [
      "    Maxpulse    Duration                Data   pulse   Calories\n",
      "0          2.5      60.0         '2020/12/01'   28.0  79.986111\n",
      "4          1.0      60.0         '2020/12/01'  360.0  44.296075\n",
      "5          2.5      60.0         '2020/12/01'   90.0  47.000000\n",
      "6          2.5      60.0         '2020/12/01'   90.0  47.000000\n",
      "8          2.5      60.0         '2020/12/01'   28.0  45.854291\n",
      "10         2.5      60.0         '2020/12/01'   90.0  38.074244\n",
      "11        26.0      60.0         '2020/12/01'   28.0  28.021684\n",
      "12         2.5      60.0         '2020/12/01'  270.0  43.012960\n",
      "13         2.5      60.0  2020-12-01 00:00:00   90.0  42.326932\n",
      "14         2.5      60.0         '2020/12/01'   28.0  47.813782\n",
      "15         2.5      60.0         '2020/12/01'   90.0  52.908320\n",
      "16         2.5      60.0         '2020/12/01'   90.0  39.358048\n",
      "17         2.5      60.0         '2020/12/01'  365.0  56.141962\n",
      "19         2.5      60.0         '2020/12/01'  180.0  42.620648\n",
      "20         2.5      60.0         '2020/12/01'  180.0  41.836714\n",
      "21         2.5      60.0         '2020/12/01'   28.0  28.237490\n",
      "22         2.5      60.0         '2020/12/01'    3.0   8.063422\n",
      "23         2.5      60.0         '2020/12/01'  180.0  44.207822\n",
      "25         2.5      60.0         '2020/12/01'  270.0  53.300632\n",
      "26         2.5      60.0         '2020/12/01'  270.0  41.151375\n",
      "27         2.5      60.0         '2020/12/01'  180.0  52.124386\n"
     ]
    }
   ],
   "source": [
    "import pandas as pd\n",
    "\n",
    "df = pd.read_excel('Reza1.xls')\n",
    "\n",
    "new_df = df.dropna()\n",
    "\n",
    "print(new_df)"
   ]
  },
  {
   "cell_type": "markdown",
   "metadata": {},
   "source": [
    "If you want to change the original DataFrame, use the **inplace = True** argument:\n"
   ]
  },
  {
   "cell_type": "code",
   "execution_count": 18,
   "metadata": {},
   "outputs": [
    {
     "name": "stdout",
     "output_type": "stream",
     "text": [
      "    Maxpulse    Duration                Data   pulse   Calories\n",
      "0          2.5      60.0         '2020/12/01'   28.0  79.986111\n",
      "4          1.0      60.0         '2020/12/01'  360.0  44.296075\n",
      "5          2.5      60.0         '2020/12/01'   90.0  47.000000\n",
      "6          2.5      60.0         '2020/12/01'   90.0  47.000000\n",
      "8          2.5      60.0         '2020/12/01'   28.0  45.854291\n",
      "10         2.5      60.0         '2020/12/01'   90.0  38.074244\n",
      "11        26.0      60.0         '2020/12/01'   28.0  28.021684\n",
      "12         2.5      60.0         '2020/12/01'  270.0  43.012960\n",
      "13         2.5      60.0  2020-12-01 00:00:00   90.0  42.326932\n",
      "14         2.5      60.0         '2020/12/01'   28.0  47.813782\n",
      "15         2.5      60.0         '2020/12/01'   90.0  52.908320\n",
      "16         2.5      60.0         '2020/12/01'   90.0  39.358048\n",
      "17         2.5      60.0         '2020/12/01'  365.0  56.141962\n",
      "19         2.5      60.0         '2020/12/01'  180.0  42.620648\n",
      "20         2.5      60.0         '2020/12/01'  180.0  41.836714\n",
      "21         2.5      60.0         '2020/12/01'   28.0  28.237490\n",
      "22         2.5      60.0         '2020/12/01'    3.0   8.063422\n",
      "23         2.5      60.0         '2020/12/01'  180.0  44.207822\n",
      "25         2.5      60.0         '2020/12/01'  270.0  53.300632\n",
      "26         2.5      60.0         '2020/12/01'  270.0  41.151375\n",
      "27         2.5      60.0         '2020/12/01'  180.0  52.124386\n"
     ]
    }
   ],
   "source": [
    "import pandas as pd\n",
    "\n",
    "df = pd.read_excel('Reza1.xls')\n",
    "\n",
    "df.dropna(inplace = True)\n",
    "print(df)"
   ]
  },
  {
   "cell_type": "markdown",
   "metadata": {},
   "source": [
    "### 4.1.2. Replace Empty Values\n",
    "\n",
    "The **fillna()** method allows us to replace empty cells with a value:"
   ]
  },
  {
   "cell_type": "code",
   "execution_count": 19,
   "metadata": {},
   "outputs": [],
   "source": [
    "import pandas as pd\n",
    "\n",
    "df = pd.read_excel('Reza1.xls')\n",
    "\n",
    "df.fillna(130, inplace = True)\n"
   ]
  },
  {
   "cell_type": "markdown",
   "metadata": {},
   "source": [
    "### 4.1.3. Replace Only For Specified Columns\n",
    "The example above replaces all empty cells in the whole Data Frame.\n",
    "\n",
    "To only replace empty values for one column, specify the column name for the DataFrame:"
   ]
  },
  {
   "cell_type": "code",
   "execution_count": 21,
   "metadata": {},
   "outputs": [
    {
     "name": "stdout",
     "output_type": "stream",
     "text": [
      "    Maxpulse    Duration                Data   pulse    Calories\n",
      "0          2.5      60.0         '2020/12/01'   28.0   79.986111\n",
      "1          2.5       NaN         '2020/12/01'   28.0   61.887366\n",
      "2          NaN      60.0         '2020/12/01'  270.0   40.269535\n",
      "3          2.5      60.0                  NaN    NaN   41.052780\n",
      "4          1.0      60.0         '2020/12/01'  360.0   44.296075\n",
      "5          2.5      60.0         '2020/12/01'   90.0   47.000000\n",
      "6          2.5      60.0         '2020/12/01'   90.0   47.000000\n",
      "7          2.0       NaN         '2020/12/01'   28.0   36.447770\n",
      "8          2.5      60.0         '2020/12/01'   28.0   45.854291\n",
      "9          2.5      60.0                  NaN   28.0   39.289790\n",
      "10         2.5      60.0         '2020/12/01'   90.0   38.074244\n",
      "11        26.0      60.0         '2020/12/01'   28.0   28.021684\n",
      "12         2.5      60.0         '2020/12/01'  270.0   43.012960\n",
      "13         2.5      60.0  2020-12-01 00:00:00   90.0   42.326932\n",
      "14         2.5      60.0         '2020/12/01'   28.0   47.813782\n",
      "15         2.5      60.0         '2020/12/01'   90.0   52.908320\n",
      "16         2.5      60.0         '2020/12/01'   90.0   39.358048\n",
      "17         2.5      60.0         '2020/12/01'  365.0   56.141962\n",
      "18         2.5      60.0         '2020/12/01'   90.0  130.000000\n",
      "19         2.5      60.0         '2020/12/01'  180.0   42.620648\n",
      "20         2.5      60.0         '2020/12/01'  180.0   41.836714\n",
      "21         2.5      60.0         '2020/12/01'   28.0   28.237490\n",
      "22         2.5      60.0         '2020/12/01'    3.0    8.063422\n",
      "23         2.5      60.0         '2020/12/01'  180.0   44.207822\n",
      "24         2.5      56.0         '2020/12/01'  365.0  130.000000\n",
      "25         2.5      60.0         '2020/12/01'  270.0   53.300632\n",
      "26         2.5      60.0         '2020/12/01'  270.0   41.151375\n",
      "27         2.5      60.0         '2020/12/01'  180.0   52.124386\n"
     ]
    }
   ],
   "source": [
    "import pandas as pd\n",
    "\n",
    "df = pd.read_excel('Reza1.xls')\n",
    "\n",
    "df[\"Calories\"].fillna(130, inplace = True)\n",
    "\n",
    "print(df)"
   ]
  },
  {
   "cell_type": "markdown",
   "metadata": {},
   "source": [
    "### 4.1.4. Replace Using Mean, Median, or Mode\n",
    "A common way to replace empty cells, is to calculate **the mean, median or mode** value of the column"
   ]
  },
  {
   "cell_type": "code",
   "execution_count": 26,
   "metadata": {},
   "outputs": [
    {
     "name": "stdout",
     "output_type": "stream",
     "text": [
      "    Maxpulse    Duration                Data   pulse   Calories\n",
      "0          2.5      60.0         '2020/12/01'   28.0  79.986111\n",
      "1          2.5       NaN         '2020/12/01'   28.0  61.887366\n",
      "2          NaN      60.0         '2020/12/01'  270.0  40.269535\n",
      "3          2.5      60.0                  NaN    NaN  41.052780\n",
      "4          1.0      60.0         '2020/12/01'  360.0  44.296075\n",
      "5          2.5      60.0         '2020/12/01'   90.0  47.000000\n",
      "6          2.5      60.0         '2020/12/01'   90.0  47.000000\n",
      "7          2.0       NaN         '2020/12/01'   28.0  36.447770\n",
      "8          2.5      60.0         '2020/12/01'   28.0  45.854291\n",
      "9          2.5      60.0                  NaN   28.0  39.289790\n",
      "10         2.5      60.0         '2020/12/01'   90.0  38.074244\n",
      "11        26.0      60.0         '2020/12/01'   28.0  28.021684\n",
      "12         2.5      60.0         '2020/12/01'  270.0  43.012960\n",
      "13         2.5      60.0  2020-12-01 00:00:00   90.0  42.326932\n",
      "14         2.5      60.0         '2020/12/01'   28.0  47.813782\n",
      "15         2.5      60.0         '2020/12/01'   90.0  52.908320\n",
      "16         2.5      60.0         '2020/12/01'   90.0  39.358048\n",
      "17         2.5      60.0         '2020/12/01'  365.0  56.141962\n",
      "18         2.5      60.0         '2020/12/01'   90.0  43.934005\n",
      "19         2.5      60.0         '2020/12/01'  180.0  42.620648\n",
      "20         2.5      60.0         '2020/12/01'  180.0  41.836714\n",
      "21         2.5      60.0         '2020/12/01'   28.0  28.237490\n",
      "22         2.5      60.0         '2020/12/01'    3.0   8.063422\n",
      "23         2.5      60.0         '2020/12/01'  180.0  44.207822\n",
      "24         2.5      56.0         '2020/12/01'  365.0  43.934005\n",
      "25         2.5      60.0         '2020/12/01'  270.0  53.300632\n",
      "26         2.5      60.0         '2020/12/01'  270.0  41.151375\n",
      "27         2.5      60.0         '2020/12/01'  180.0  52.124386\n"
     ]
    }
   ],
   "source": [
    "import pandas as pd\n",
    "\n",
    "df = pd.read_excel('Reza1.xls')\n",
    "\n",
    "x = df[\"Calories\"].mean()\n",
    "\n",
    "df[\"Calories\"].fillna(x, inplace = True)\n",
    "\n",
    "print(df)"
   ]
  },
  {
   "cell_type": "markdown",
   "metadata": {},
   "source": [
    "## 4.2. Data of Wrong Format\n",
    "\n",
    "Cells with data of wrong format can make it difficult, or even impossible, to analyze data.\n",
    "\n",
    "To fix it, you have two options: ***remove the rows***, or ***convert all cells in the columns into the same format***.\n",
    "\n",
    "### 4.2.1. Convert Into a Correct Format\n",
    "Let's try to convert all cells in the 'Date' column into dates.\n",
    "\n",
    "Pandas has a ***to_datetime()*** method for this:"
   ]
  },
  {
   "cell_type": "code",
   "execution_count": 31,
   "metadata": {},
   "outputs": [
    {
     "name": "stdout",
     "output_type": "stream",
     "text": [
      "    Maxpulse    Duration       Date  pulse   Calories\n",
      "0          2.5      60.0 2020-12-01   28.0  79.986111\n",
      "1          2.5       NaN 2020-12-01   28.0  61.887366\n",
      "2          NaN      60.0 2020-12-01  270.0  40.269535\n",
      "3          2.5      60.0        NaT    NaN  41.052780\n",
      "4          1.0      60.0 2020-12-01  360.0  44.296075\n",
      "5          2.5      60.0 2020-12-01   90.0  47.000000\n",
      "6          2.5      60.0 2020-12-01   90.0  47.000000\n",
      "7          2.0       NaN 2020-12-01   28.0  36.447770\n",
      "8          2.5      60.0 2020-12-01   28.0  45.854291\n",
      "9          2.5      60.0        NaT   28.0  39.289790\n",
      "10         2.5      60.0 2020-12-01   90.0  38.074244\n",
      "11        26.0      60.0 2020-12-01   28.0  28.021684\n",
      "12         2.5      60.0 2020-12-01  270.0  43.012960\n",
      "13         2.5      60.0 2020-12-25   90.0  42.326932\n",
      "14         2.5      60.0 2020-12-01   28.0  47.813782\n",
      "15         2.5      60.0 2020-12-01   90.0  52.908320\n",
      "16         2.5      60.0 2020-12-01   90.0  39.358048\n",
      "17         2.5      60.0 2020-12-01  365.0  56.141962\n",
      "18         2.5      60.0 2020-12-01   90.0        NaN\n",
      "19         2.5      60.0 2020-12-01  180.0  42.620648\n",
      "20         2.5      60.0 2020-12-01  180.0  41.836714\n",
      "21         2.5      60.0 2020-12-01   28.0  28.237490\n",
      "22         2.5      60.0 2020-12-01    3.0   8.063422\n",
      "23         2.5      60.0 2020-12-01  180.0  44.207822\n",
      "24         2.5      56.0 2020-12-01  365.0        NaN\n",
      "25         2.5      60.0 2020-12-01  270.0  53.300632\n",
      "26         2.5      60.0 2020-12-01  270.0  41.151375\n",
      "27         2.5      60.0 2020-12-01  180.0  52.124386\n"
     ]
    }
   ],
   "source": [
    "import pandas as pd\n",
    "\n",
    "df = pd.read_excel('Reza1.xls')\n",
    "\n",
    "df['Date'] = pd.to_datetime(df['Date'])\n",
    "\n",
    "print(df)"
   ]
  },
  {
   "cell_type": "markdown",
   "metadata": {},
   "source": [
    "### 4.2.2 Removing Rows\n",
    "The result from the converting in the example above gave us a NaT value, which can be handled as a NULL value, \n",
    "\n",
    "and we can remove the row by using the **dropna()** method."
   ]
  },
  {
   "cell_type": "code",
   "execution_count": null,
   "metadata": {},
   "outputs": [],
   "source": [
    "df.dropna(subset=['Date'], inplace = True)"
   ]
  },
  {
   "cell_type": "markdown",
   "metadata": {},
   "source": [
    "## 4.3. Fixing Wrong Data\n",
    "\"Wrong data\" does not have to be \"empty cells\" or \"wrong format\", it can just be wrong, like if someone registered \"199\" instead of \"1.99\".\n",
    "\n",
    "### 4.3.1. Replacing Values\n",
    "One way to fix wrong values is to replace them with something else."
   ]
  },
  {
   "cell_type": "code",
   "execution_count": 5,
   "metadata": {},
   "outputs": [
    {
     "name": "stdout",
     "output_type": "stream",
     "text": [
      "    Maxpulse    Duration                 Date  pulse   Calories\n",
      "0          2.5      60.0         '2020/12/01'   28.0  79.986111\n",
      "1          2.5       NaN         '2020/12/01'   28.0  61.887366\n",
      "2          NaN      60.0         '2020/12/01'  270.0  40.269535\n",
      "3          2.5      60.0                  NaN    NaN  41.052780\n",
      "4          1.0      60.0         '2020/12/01'  360.0  44.296075\n",
      "5          2.5      60.0         '2020/12/01'   90.0  47.000000\n",
      "6          2.5      60.0         '2020/12/01'   90.0  47.000000\n",
      "7          2.0       NaN         '2020/12/01'   28.0  36.447770\n",
      "8          2.5      60.0         '2020/12/01'   28.0  45.854291\n",
      "9          2.5      60.0                  NaN   28.0  39.289790\n",
      "10         2.5      60.0         '2020/12/01'   90.0  38.074244\n",
      "11        26.0       5.5         '2020/12/01'   28.0  28.021684\n",
      "12         2.5      60.0         '2020/12/01'  270.0  43.012960\n",
      "13         2.5      60.0  2020-12-25 00:00:00   90.0  42.326932\n",
      "14         2.5      60.0         '2020/12/01'   28.0  47.813782\n",
      "15         2.5      60.0         '2020/12/01'   90.0  52.908320\n",
      "16         2.5      60.0         '2020/12/01'   90.0  39.358048\n",
      "17         2.5      60.0         '2020/12/01'  365.0  56.141962\n",
      "18         2.5      60.0         '2020/12/01'   90.0        NaN\n",
      "19         2.5      60.0         '2020/12/01'  180.0  42.620648\n",
      "20         2.5      60.0         '2020/12/01'  180.0  41.836714\n",
      "21         2.5      60.0         '2020/12/01'   28.0  28.237490\n",
      "22         2.5      60.0         '2020/12/01'    3.0   8.063422\n",
      "23         2.5      60.0         '2020/12/01'  180.0  44.207822\n",
      "24         2.5      56.0         '2020/12/01'  365.0        NaN\n",
      "25         2.5      60.0         '2020/12/01'  270.0  53.300632\n",
      "26         2.5      60.0         '2020/12/01'  270.0  41.151375\n",
      "27         2.5      60.0         '2020/12/01'  180.0  52.124386\n"
     ]
    }
   ],
   "source": [
    "import pandas as pd\n",
    "\n",
    "df = pd.read_excel('Reza1.xls')\n",
    "\n",
    "df.loc[11, 'Duration'] = 5.5\n",
    "\n",
    "print(df)"
   ]
  },
  {
   "cell_type": "markdown",
   "metadata": {},
   "source": [
    "To replace wrong data for larger data sets you can create some rules, e.g. set some boundaries for legal values, and replace any values that are outside of the boundaries.\n",
    "\n",
    "### Example\n",
    "Loop through all values in the \"Duration\" column.\n",
    "\n",
    "If the value is higher than 120, set it to 120:"
   ]
  },
  {
   "cell_type": "code",
   "execution_count": null,
   "metadata": {},
   "outputs": [],
   "source": [
    "for x in df.index:\n",
    "  if df.loc[x, \"Duration\"] > 120:\n",
    "    df.loc[x, \"Duration\"] = 120"
   ]
  },
  {
   "cell_type": "markdown",
   "metadata": {},
   "source": [
    "### 4.3.2. Removing Rows\n",
    "Another way of handling wrong data is to remove the rows that contains wrong data.\n",
    "\n",
    "### Example\n",
    "Delete rows where \"Duration\" is higher than 120:"
   ]
  },
  {
   "cell_type": "code",
   "execution_count": null,
   "metadata": {},
   "outputs": [],
   "source": [
    "for x in df.index:\n",
    "  if df.loc[x, \"Duration\"] > 120:\n",
    "    df.drop(x, inplace = True)"
   ]
  },
  {
   "cell_type": "markdown",
   "metadata": {},
   "source": [
    "## 4.4. Removing Duplicates\n",
    "\n",
    "Duplicate rows are rows that have been registered more than one time.\n",
    "\n",
    "\n",
    "### 4.4.1. Discovering Duplicates\n",
    "\n",
    "To discover duplicates, we can use the **duplicated()** method.\n",
    "\n",
    "The **duplicated()** method returns a Boolean values for each row:\n",
    "\n",
    "Returns ***True*** for every row that is a duplicate, otherwise ***False***:\n",
    "\n"
   ]
  },
  {
   "cell_type": "code",
   "execution_count": 6,
   "metadata": {},
   "outputs": [
    {
     "name": "stdout",
     "output_type": "stream",
     "text": [
      "0     False\n",
      "1     False\n",
      "2     False\n",
      "3     False\n",
      "4     False\n",
      "5     False\n",
      "6      True\n",
      "7     False\n",
      "8     False\n",
      "9     False\n",
      "10    False\n",
      "11    False\n",
      "12    False\n",
      "13    False\n",
      "14    False\n",
      "15    False\n",
      "16    False\n",
      "17    False\n",
      "18    False\n",
      "19    False\n",
      "20    False\n",
      "21    False\n",
      "22    False\n",
      "23    False\n",
      "24    False\n",
      "25    False\n",
      "26    False\n",
      "27    False\n",
      "dtype: bool\n"
     ]
    }
   ],
   "source": [
    "import pandas as pd\n",
    "\n",
    "df = pd.read_excel('Reza1.xls')\n",
    "print(df.duplicated())"
   ]
  },
  {
   "cell_type": "markdown",
   "metadata": {},
   "source": [
    "### 4.4.2. Removing Duplicates\n",
    "To remove duplicates, use the **drop_duplicates()** method."
   ]
  },
  {
   "cell_type": "code",
   "execution_count": 7,
   "metadata": {},
   "outputs": [
    {
     "name": "stdout",
     "output_type": "stream",
     "text": [
      "    Maxpulse    Duration                 Date  pulse   Calories\n",
      "0          2.5      60.0         '2020/12/01'   28.0  79.986111\n",
      "1          2.5       NaN         '2020/12/01'   28.0  61.887366\n",
      "2          NaN      60.0         '2020/12/01'  270.0  40.269535\n",
      "3          2.5      60.0                  NaN    NaN  41.052780\n",
      "4          1.0      60.0         '2020/12/01'  360.0  44.296075\n",
      "5          2.5      60.0         '2020/12/01'   90.0  47.000000\n",
      "7          2.0       NaN         '2020/12/01'   28.0  36.447770\n",
      "8          2.5      60.0         '2020/12/01'   28.0  45.854291\n",
      "9          2.5      60.0                  NaN   28.0  39.289790\n",
      "10         2.5      60.0         '2020/12/01'   90.0  38.074244\n",
      "11        26.0      60.0         '2020/12/01'   28.0  28.021684\n",
      "12         2.5      60.0         '2020/12/01'  270.0  43.012960\n",
      "13         2.5      60.0  2020-12-25 00:00:00   90.0  42.326932\n",
      "14         2.5      60.0         '2020/12/01'   28.0  47.813782\n",
      "15         2.5      60.0         '2020/12/01'   90.0  52.908320\n",
      "16         2.5      60.0         '2020/12/01'   90.0  39.358048\n",
      "17         2.5      60.0         '2020/12/01'  365.0  56.141962\n",
      "18         2.5      60.0         '2020/12/01'   90.0        NaN\n",
      "19         2.5      60.0         '2020/12/01'  180.0  42.620648\n",
      "20         2.5      60.0         '2020/12/01'  180.0  41.836714\n",
      "21         2.5      60.0         '2020/12/01'   28.0  28.237490\n",
      "22         2.5      60.0         '2020/12/01'    3.0   8.063422\n",
      "23         2.5      60.0         '2020/12/01'  180.0  44.207822\n",
      "24         2.5      56.0         '2020/12/01'  365.0        NaN\n",
      "25         2.5      60.0         '2020/12/01'  270.0  53.300632\n",
      "26         2.5      60.0         '2020/12/01'  270.0  41.151375\n",
      "27         2.5      60.0         '2020/12/01'  180.0  52.124386\n"
     ]
    }
   ],
   "source": [
    "import pandas as pd\n",
    "\n",
    "df = pd.read_excel('Reza1.xls')\n",
    "\n",
    "df.drop_duplicates(inplace = True)\n",
    "\n",
    "print(df)\n"
   ]
  },
  {
   "cell_type": "code",
   "execution_count": null,
   "metadata": {},
   "outputs": [],
   "source": []
  }
 ],
 "metadata": {
  "kernelspec": {
   "display_name": "Python 3",
   "language": "python",
   "name": "python3"
  },
  "language_info": {
   "codemirror_mode": {
    "name": "ipython",
    "version": 3
   },
   "file_extension": ".py",
   "mimetype": "text/x-python",
   "name": "python",
   "nbconvert_exporter": "python",
   "pygments_lexer": "ipython3",
   "version": "3.7.3"
  }
 },
 "nbformat": 4,
 "nbformat_minor": 2
}
